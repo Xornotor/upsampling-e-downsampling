{
 "cells": [
  {
   "cell_type": "markdown",
   "metadata": {},
   "source": [
    "# **Atividade Computacional 03 - TEEC III**\n",
    "## **Aluno: André Paiva Conrado Rodrigues**"
   ]
  },
  {
   "cell_type": "markdown",
   "metadata": {},
   "source": [
    "## Importando bibliotecas\n",
    "\n",
    "Nesta seção do código, são importadas bibliotecas de manipulação de dados importantes para a obtenção das amostras dos arquivos de áudio, bem como para a manipulação das mesmas.\n",
    "\n",
    "São utilizadas as bibiliotecas scipy para cálculo dos dados do espectrograma e para cálculo da FFT e matplotlib para plotagem de gráficos e do espectrograma."
   ]
  },
  {
   "cell_type": "code",
   "execution_count": null,
   "metadata": {},
   "outputs": [],
   "source": [
    "import numpy as np\n",
    "import math\n",
    "from scipy import signal, fft\n",
    "from scipy.io import wavfile\n",
    "import matplotlib.pyplot as plt"
   ]
  },
  {
   "cell_type": "markdown",
   "metadata": {},
   "source": [
    "## Função para separação de arquivos stereo\n",
    "\n",
    "Para tornar as funções compatíveis com arquivos de áudio stereo, desenvolvi essa função para separar o np.array resultante da leitura do arquivo em dois np.arrays, um para cada canal.\n",
    "\n",
    "Esta função é utilizada tanto para a plotagem de espectrogramas quanto para as funções de detecção de onsets."
   ]
  },
  {
   "cell_type": "code",
   "execution_count": null,
   "metadata": {},
   "outputs": [],
   "source": [
    "def separa_stereo(data_np_array):\n",
    "    cont = 0\n",
    "    tmpListDataL = []\n",
    "    tmpListDataR = []\n",
    "    while cont < data_np_array.shape[0]:\n",
    "        tmpListDataL.append(data_np_array[cont][0])\n",
    "        tmpListDataR.append(data_np_array[cont][1])\n",
    "        cont = cont + 1\n",
    "    dataL = np.array(tmpListDataL)\n",
    "    dataR = np.array(tmpListDataR) \n",
    "    return dataL, dataR"
   ]
  }
 ],
 "metadata": {
  "kernelspec": {
   "display_name": "Python 3",
   "language": "python",
   "name": "python3"
  },
  "language_info": {
   "codemirror_mode": {
    "name": "ipython",
    "version": 3
   },
   "file_extension": ".py",
   "mimetype": "text/x-python",
   "name": "python",
   "nbconvert_exporter": "python",
   "pygments_lexer": "ipython3",
   "version": "3.8.5"
  }
 },
 "nbformat": 4,
 "nbformat_minor": 4
}
