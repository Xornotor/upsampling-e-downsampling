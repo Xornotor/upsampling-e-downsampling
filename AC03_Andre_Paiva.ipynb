{
 "cells": [
  {
   "cell_type": "markdown",
   "metadata": {},
   "source": [
    "# **Atividade Computacional 03 - TEEC III**\n",
    "## **Aluno: André Paiva Conrado Rodrigues**"
   ]
  },
  {
   "cell_type": "markdown",
   "metadata": {},
   "source": [
    "## Importando bibliotecas\n",
    "\n",
    "Nesta seção do código, são importadas bibliotecas de manipulação de dados importantes para a obtenção das amostras dos arquivos de áudio, bem como para a manipulação das mesmas."
   ]
  },
  {
   "cell_type": "code",
   "execution_count": null,
   "metadata": {},
   "outputs": [],
   "source": [
    "import numpy as np\n",
    "import math\n",
    "from scipy import signal\n",
    "from scipy.io import wavfile\n",
    "from IPython.display import Audio\n",
    "import matplotlib.pyplot as plt"
   ]
  },
  {
   "cell_type": "markdown",
   "metadata": {},
   "source": [
    "## Função para plotagem de espectrograma"
   ]
  },
  {
   "cell_type": "code",
   "execution_count": null,
   "metadata": {},
   "outputs": [],
   "source": [
    "def plotar(dataArray, title):\n",
    "    plt.figure(figsize=(17,5))\n",
    "    plt.margins(0, 0)    \n",
    "    plt.xlabel('Amostras')\n",
    "    plt.title(title)\n",
    "    plt.plot(dataArray)\n",
    "    plt.show()"
   ]
  },
  {
   "cell_type": "code",
   "execution_count": null,
   "metadata": {},
   "outputs": [],
   "source": [
    "def spectroPlot(audioArray, rate, windowSize, title):\n",
    "    f, t, Sxx = signal.spectrogram(audioArray, rate, nperseg=windowSize)\n",
    "    plt.figure(figsize=(17,5))\n",
    "    plt.pcolormesh(t, f, np.abs(Sxx), shading='auto', cmap='PRGn', vmin=0, vmax=511)\n",
    "    plt.title(title)\n",
    "    plt.ylabel('Frequência [Hz]')\n",
    "    plt.xlabel('Tempo [s]')\n",
    "    plt.colorbar()\n",
    "    plt.show()"
   ]
  },
  {
   "cell_type": "code",
   "execution_count": null,
   "metadata": {},
   "outputs": [],
   "source": [
    "def downsampleBy2(filename, windowSize):\n",
    "    samplerate, data = wavfile.read(filename)\n",
    "    qtdSamples = data.shape[0]\n",
    "    downsampleList = []\n",
    "    downRate = int(samplerate/2)\n",
    "    i = 0\n",
    "    while(i < qtdSamples):\n",
    "        downsampleList.append(data[i])\n",
    "        i = i + 2\n",
    "    downsampleArray = np.array(downsampleList)\n",
    "    print(\"Player - Áudio Original\")\n",
    "    display(Audio(filename, rate=samplerate))\n",
    "    print(\"Player - Áudio Downsampled\")\n",
    "    display(Audio(downsampleArray, rate=downRate))\n",
    "    spectroPlot(data, samplerate, windowSize, \"Espectrograma - Áudio Original\")\n",
    "    spectroPlot(downsampleArray, downRate, windowSize, \"Espectrograma - Áudio Downsampled\")\n",
    "    plotar(data, \"Waveform - Áudio Original\")\n",
    "    plotar(downsampleArray, \"Waveform - Áudio Downsampled\")"
   ]
  },
  {
   "cell_type": "code",
   "execution_count": null,
   "metadata": {},
   "outputs": [],
   "source": [
    "downsampleBy2('audio1mod.wav', 64)"
   ]
  }
 ],
 "metadata": {
  "kernelspec": {
   "display_name": "Python 3",
   "language": "python",
   "name": "python3"
  },
  "language_info": {
   "codemirror_mode": {
    "name": "ipython",
    "version": 3
   },
   "file_extension": ".py",
   "mimetype": "text/x-python",
   "name": "python",
   "nbconvert_exporter": "python",
   "pygments_lexer": "ipython3",
   "version": "3.8.5"
  }
 },
 "nbformat": 4,
 "nbformat_minor": 4
}
