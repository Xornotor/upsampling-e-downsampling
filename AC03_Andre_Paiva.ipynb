{
 "cells": [
  {
   "cell_type": "markdown",
   "metadata": {},
   "source": [
    "# **Atividade Computacional 03 - TEEC III**\n",
    "## **Aluno: André Paiva Conrado Rodrigues**"
   ]
  },
  {
   "cell_type": "markdown",
   "metadata": {},
   "source": [
    "## Importando bibliotecas\n",
    "\n",
    "Nesta seção do código, são importadas bibliotecas de manipulação de dados importantes para a obtenção das amostras dos arquivos de áudio, bem como para a manipulação das mesmas."
   ]
  },
  {
   "cell_type": "code",
   "execution_count": null,
   "metadata": {},
   "outputs": [],
   "source": [
    "import numpy as np\n",
    "import math\n",
    "from scipy import signal\n",
    "from scipy.io import wavfile\n",
    "from IPython.display import Audio\n",
    "import matplotlib.pyplot as plt"
   ]
  },
  {
   "cell_type": "markdown",
   "metadata": {},
   "source": [
    "## Função para plotagem de espectrograma"
   ]
  },
  {
   "cell_type": "code",
   "execution_count": null,
   "metadata": {},
   "outputs": [],
   "source": [
    "def plotar(dataArray, title):\n",
    "    plt.figure(figsize=(17,5))\n",
    "    plt.margins(0, 0)    \n",
    "    plt.xlabel('Amostras')\n",
    "    plt.title(title)\n",
    "    plt.plot(dataArray)\n",
    "    plt.show()"
   ]
  },
  {
   "cell_type": "code",
   "execution_count": null,
   "metadata": {},
   "outputs": [],
   "source": [
    "def spectroPlot(audioArray, rate, windowSize, title):\n",
    "    f, t, Sxx = signal.spectrogram(audioArray, rate, nperseg=windowSize)\n",
    "    plt.figure(figsize=(17,5))\n",
    "    plt.pcolormesh(t, f, np.abs(Sxx), shading='auto', cmap='bone', vmin=0, vmax=4095)\n",
    "    plt.title(title)\n",
    "    plt.ylabel('Frequência [Hz]')\n",
    "    plt.xlabel('Tempo [s]')\n",
    "    plt.colorbar()\n",
    "    plt.show()"
   ]
  },
  {
   "cell_type": "code",
   "execution_count": null,
   "metadata": {},
   "outputs": [],
   "source": [
    "def resampleBy2(filename, windowSize, resampleType):\n",
    "    samplerate, data = wavfile.read(filename)\n",
    "    qtdSamples = data.shape[0]\n",
    "    resampleList = []\n",
    "    if resampleType == \"up\":\n",
    "        resampleRate = int(samplerate*2)\n",
    "    elif resampleType == \"down\":\n",
    "        resampleRate = int(samplerate/2)\n",
    "    i = 0\n",
    "    while(i < qtdSamples):\n",
    "        resampleList.append(data[i])\n",
    "        if resampleType == \"up\":\n",
    "            resampleList.append(0)\n",
    "            i = i + 1\n",
    "        elif resampleType == \"down\":\n",
    "            i = i + 2\n",
    "    resampleArray = np.array(resampleList)\n",
    "    del resampleList\n",
    "    if resampleType == \"up\":\n",
    "        sos = signal.butter(2, samplerate/2, 'lp', fs=resampleRate, output='sos')\n",
    "        resampleArray = signal.sosfilt(sos, resampleArray)\n",
    "    title = \" - Áudio \" + resampleType + \"sampled\"\n",
    "    print(\"Player - Áudio original\")\n",
    "    display(Audio(filename, rate=samplerate))\n",
    "    print(\"Player\" + title)\n",
    "    display(Audio(resampleArray, rate=resampleRate))\n",
    "    spectroPlot(data, samplerate, windowSize, \"Espectrograma - Áudio original\")\n",
    "    spectroPlot(resampleArray, resampleRate, windowSize, \"Espectrograma\" + title)\n",
    "    plotar(data, \"Waveform - Áudio original\")\n",
    "    plotar(resampleArray, \"Waveform\" + title)"
   ]
  },
  {
   "cell_type": "code",
   "execution_count": null,
   "metadata": {},
   "outputs": [],
   "source": [
    "resampleBy2('highfreq.wav', 64, 'up')\n",
    "resampleBy2('highfreq.wav', 64, 'down')"
   ]
  }
 ],
 "metadata": {
  "kernelspec": {
   "display_name": "Python 3",
   "language": "python",
   "name": "python3"
  },
  "language_info": {
   "codemirror_mode": {
    "name": "ipython",
    "version": 3
   },
   "file_extension": ".py",
   "mimetype": "text/x-python",
   "name": "python",
   "nbconvert_exporter": "python",
   "pygments_lexer": "ipython3",
   "version": "3.8.5"
  }
 },
 "nbformat": 4,
 "nbformat_minor": 4
}
